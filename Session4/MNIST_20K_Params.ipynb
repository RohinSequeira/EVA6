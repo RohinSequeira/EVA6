{
 "cells": [
  {
   "cell_type": "code",
   "execution_count": 1,
   "id": "6fad1860",
   "metadata": {},
   "outputs": [],
   "source": [
    "from __future__ import print_function\n",
    "import torch\n",
    "import torch.nn as nn\n",
    "import torch.nn.functional as F\n",
    "import torch.optim as optim\n",
    "from torchvision import datasets, transforms\n",
    "from torchsummary import summary\n",
    "import warnings \n",
    "warnings.filterwarnings('ignore')"
   ]
  },
  {
   "cell_type": "code",
   "execution_count": 12,
   "id": "50cecb8b",
   "metadata": {},
   "outputs": [],
   "source": [
    "class Net(nn.Module):\n",
    "    def __init__(self):\n",
    "        super(Net, self).__init__()\n",
    "        \n",
    "        self.conv0 = nn.Conv2d(1, 8, 3, padding=1) #input -? OUtput? RF\n",
    "        self.bn0 = nn.BatchNorm2d(8)\n",
    "        self.conv01 = nn.Conv2d(8, 8, 3, padding=1)\n",
    "        self.bn01 = nn.BatchNorm2d(8)\n",
    "        self.pool0 = nn.MaxPool2d(2, 2)\n",
    "        self.drop1 = nn.Dropout(0.1)\n",
    "        \n",
    "        self.conv1 = nn.Conv2d(8, 16, 3, padding=1) #input -? OUtput? RF\n",
    "        self.bn1 = nn.BatchNorm2d(16)\n",
    "        self.conv2 = nn.Conv2d(16, 16, 3, padding=1)\n",
    "        self.bn2 = nn.BatchNorm2d(16)\n",
    "        self.pool1 = nn.MaxPool2d(2, 2)\n",
    "        self.drop2 = nn.Dropout(0.1)\n",
    "\n",
    "        self.conv3 = nn.Conv2d(16, 32, 3, padding=1)\n",
    "        self.bn3 = nn.BatchNorm2d(32)\n",
    "        self.conv4 = nn.Conv2d(32, 32, 3, padding=1)\n",
    "        self.bn4 = nn.BatchNorm2d(32)\n",
    "        self.avgpool = nn.AvgPool2d(7)\n",
    "        self.drop3 = nn.Dropout(0.1)        \n",
    "\n",
    "        self.fc1 = nn.Linear(32,16)\n",
    "        self.fc2 = nn.Linear(16,10)\n",
    "\n",
    "\n",
    "    def forward(self, x):\n",
    "        x = self.pool0(self.bn01(F.relu(self.conv01(self.bn0(F.relu(self.conv0(x)))))))\n",
    "        x=self.drop1(x)\n",
    "        x = self.pool1(self.bn2(F.relu(self.conv2(self.bn1(F.relu(self.conv1(x)))))))\n",
    "        x=self.drop2(x)\n",
    "        x = self.avgpool(self.bn4(F.relu(self.conv4(self.bn3(F.relu(self.conv3(x)))))))\n",
    "        x=self.drop3(x)\n",
    "        x = x.view(-1, 32)\n",
    "        x = self.fc2(self.fc1(x))\n",
    "        return F.log_softmax(x)"
   ]
  },
  {
   "cell_type": "code",
   "execution_count": 13,
   "id": "8b641a11",
   "metadata": {},
   "outputs": [
    {
     "name": "stdout",
     "output_type": "stream",
     "text": [
      "----------------------------------------------------------------\n",
      "        Layer (type)               Output Shape         Param #\n",
      "================================================================\n",
      "            Conv2d-1            [-1, 8, 28, 28]              80\n",
      "       BatchNorm2d-2            [-1, 8, 28, 28]              16\n",
      "            Conv2d-3            [-1, 8, 28, 28]             584\n",
      "       BatchNorm2d-4            [-1, 8, 28, 28]              16\n",
      "         MaxPool2d-5            [-1, 8, 14, 14]               0\n",
      "           Dropout-6            [-1, 8, 14, 14]               0\n",
      "            Conv2d-7           [-1, 16, 14, 14]           1,168\n",
      "       BatchNorm2d-8           [-1, 16, 14, 14]              32\n",
      "            Conv2d-9           [-1, 16, 14, 14]           2,320\n",
      "      BatchNorm2d-10           [-1, 16, 14, 14]              32\n",
      "        MaxPool2d-11             [-1, 16, 7, 7]               0\n",
      "          Dropout-12             [-1, 16, 7, 7]               0\n",
      "           Conv2d-13             [-1, 32, 7, 7]           4,640\n",
      "      BatchNorm2d-14             [-1, 32, 7, 7]              64\n",
      "           Conv2d-15             [-1, 32, 7, 7]           9,248\n",
      "      BatchNorm2d-16             [-1, 32, 7, 7]              64\n",
      "        AvgPool2d-17             [-1, 32, 1, 1]               0\n",
      "          Dropout-18             [-1, 32, 1, 1]               0\n",
      "           Linear-19                   [-1, 16]             528\n",
      "           Linear-20                   [-1, 10]             170\n",
      "================================================================\n",
      "Total params: 18,962\n",
      "Trainable params: 18,962\n",
      "Non-trainable params: 0\n",
      "----------------------------------------------------------------\n",
      "Input size (MB): 0.00\n",
      "Forward/backward pass size (MB): 0.37\n",
      "Params size (MB): 0.07\n",
      "Estimated Total Size (MB): 0.45\n",
      "----------------------------------------------------------------\n"
     ]
    }
   ],
   "source": [
    "use_cuda = torch.cuda.is_available()\n",
    "device = torch.device(\"cuda\" if use_cuda else \"cpu\")\n",
    "model = Net().to(device)\n",
    "summary(model, input_size=(1, 28, 28))"
   ]
  },
  {
   "cell_type": "code",
   "execution_count": 14,
   "id": "6186cb03",
   "metadata": {},
   "outputs": [],
   "source": [
    "torch.manual_seed(1)\n",
    "batch_size = 128\n",
    "\n",
    "kwargs = {'num_workers': 1, 'pin_memory': True} if use_cuda else {}\n",
    "train_loader = torch.utils.data.DataLoader(\n",
    "    datasets.MNIST('../data', train=True, download=True,\n",
    "                    transform=transforms.Compose([\n",
    "                        transforms.ToTensor(),\n",
    "                        transforms.Normalize((0.1307,), (0.3081,))\n",
    "                    ])),\n",
    "    batch_size=batch_size, shuffle=True, **kwargs)\n",
    "test_loader = torch.utils.data.DataLoader(\n",
    "    datasets.MNIST('../data', train=False, transform=transforms.Compose([\n",
    "                        transforms.ToTensor(),\n",
    "                        transforms.Normalize((0.1307,), (0.3081,))\n",
    "                    ])),\n",
    "    batch_size=batch_size, shuffle=True, **kwargs)"
   ]
  },
  {
   "cell_type": "code",
   "execution_count": 15,
   "id": "79e9d46b",
   "metadata": {},
   "outputs": [],
   "source": [
    "from tqdm import tqdm\n",
    "def train(model, device, train_loader, optimizer, epoch):\n",
    "    model.train()\n",
    "    correct = 0\n",
    "    pbar = tqdm(train_loader)\n",
    "    for batch_idx, (data, target) in enumerate(pbar):\n",
    "        data, target = data.to(device), target.to(device)\n",
    "        optimizer.zero_grad()\n",
    "        output = model(data)\n",
    "        loss = F.nll_loss(output, target)\n",
    "        loss.backward()\n",
    "        optimizer.step()\n",
    "        pbar.set_description(desc= f'loss={loss.item()} batch_id={batch_idx}')\n",
    "        train_pred = output.argmax(dim=1, keepdim=True)  # get the index of the max log-probability\n",
    "        correct += train_pred.eq(target.view_as(train_pred)).sum().item()\n",
    "\n",
    "def test(model, device, test_loader):\n",
    "    model.eval()\n",
    "    test_loss = 0\n",
    "    correct = 0\n",
    "    with torch.no_grad():\n",
    "        for data, target in test_loader:\n",
    "            data, target = data.to(device), target.to(device)\n",
    "            output = model(data)\n",
    "            test_loss += F.nll_loss(output, target, reduction='sum').item()  # sum up batch loss\n",
    "            pred = output.argmax(dim=1, keepdim=True)  # get the index of the max log-probability\n",
    "            correct += pred.eq(target.view_as(pred)).sum().item()\n",
    "\n",
    "    test_loss /= len(test_loader.dataset)\n",
    "\n",
    "    print('\\nEpoch: {}, Test set: Average loss: {:.4f}, Accuracy: {}/{} ({:.2f}%)\\n'.format(\n",
    "        epoch, test_loss, correct, len(test_loader.dataset),\n",
    "        100. * correct / len(test_loader.dataset)))"
   ]
  },
  {
   "cell_type": "code",
   "execution_count": 16,
   "id": "9da8f5ae",
   "metadata": {},
   "outputs": [
    {
     "name": "stderr",
     "output_type": "stream",
     "text": [
      "loss=0.2658255696296692 batch_id=468: 100%|██████████| 469/469 [00:17<00:00, 26.32it/s] \n",
      "  0%|          | 0/469 [00:00<?, ?it/s]"
     ]
    },
    {
     "name": "stdout",
     "output_type": "stream",
     "text": [
      "\n",
      "Epoch: 1, Test set: Average loss: 0.1101, Accuracy: 9665/10000 (96.65%)\n",
      "\n"
     ]
    },
    {
     "name": "stderr",
     "output_type": "stream",
     "text": [
      "loss=0.061907101422548294 batch_id=468: 100%|██████████| 469/469 [00:17<00:00, 27.23it/s]\n",
      "  0%|          | 0/469 [00:00<?, ?it/s]"
     ]
    },
    {
     "name": "stdout",
     "output_type": "stream",
     "text": [
      "\n",
      "Epoch: 2, Test set: Average loss: 0.0410, Accuracy: 9866/10000 (98.66%)\n",
      "\n"
     ]
    },
    {
     "name": "stderr",
     "output_type": "stream",
     "text": [
      "loss=0.05401677265763283 batch_id=468: 100%|██████████| 469/469 [00:17<00:00, 26.71it/s] \n",
      "  0%|          | 0/469 [00:00<?, ?it/s]"
     ]
    },
    {
     "name": "stdout",
     "output_type": "stream",
     "text": [
      "\n",
      "Epoch: 3, Test set: Average loss: 0.0386, Accuracy: 9871/10000 (98.71%)\n",
      "\n"
     ]
    },
    {
     "name": "stderr",
     "output_type": "stream",
     "text": [
      "loss=0.03758693486452103 batch_id=468: 100%|██████████| 469/469 [00:17<00:00, 26.47it/s]  \n",
      "  0%|          | 0/469 [00:00<?, ?it/s]"
     ]
    },
    {
     "name": "stdout",
     "output_type": "stream",
     "text": [
      "\n",
      "Epoch: 4, Test set: Average loss: 0.0367, Accuracy: 9885/10000 (98.85%)\n",
      "\n"
     ]
    },
    {
     "name": "stderr",
     "output_type": "stream",
     "text": [
      "loss=0.03501156345009804 batch_id=468: 100%|██████████| 469/469 [00:17<00:00, 26.32it/s]  \n",
      "  0%|          | 0/469 [00:00<?, ?it/s]"
     ]
    },
    {
     "name": "stdout",
     "output_type": "stream",
     "text": [
      "\n",
      "Epoch: 5, Test set: Average loss: 0.0281, Accuracy: 9904/10000 (99.04%)\n",
      "\n"
     ]
    },
    {
     "name": "stderr",
     "output_type": "stream",
     "text": [
      "loss=0.07447967678308487 batch_id=468: 100%|██████████| 469/469 [00:17<00:00, 26.37it/s] \n",
      "  0%|          | 0/469 [00:00<?, ?it/s]"
     ]
    },
    {
     "name": "stdout",
     "output_type": "stream",
     "text": [
      "\n",
      "Epoch: 6, Test set: Average loss: 0.0260, Accuracy: 9914/10000 (99.14%)\n",
      "\n"
     ]
    },
    {
     "name": "stderr",
     "output_type": "stream",
     "text": [
      "loss=0.030744045972824097 batch_id=468: 100%|██████████| 469/469 [00:17<00:00, 26.62it/s] \n",
      "  0%|          | 0/469 [00:00<?, ?it/s]"
     ]
    },
    {
     "name": "stdout",
     "output_type": "stream",
     "text": [
      "\n",
      "Epoch: 7, Test set: Average loss: 0.0246, Accuracy: 9918/10000 (99.18%)\n",
      "\n"
     ]
    },
    {
     "name": "stderr",
     "output_type": "stream",
     "text": [
      "loss=0.07360173016786575 batch_id=468: 100%|██████████| 469/469 [00:17<00:00, 26.64it/s]  \n",
      "  0%|          | 0/469 [00:00<?, ?it/s]"
     ]
    },
    {
     "name": "stdout",
     "output_type": "stream",
     "text": [
      "\n",
      "Epoch: 8, Test set: Average loss: 0.0241, Accuracy: 9927/10000 (99.27%)\n",
      "\n"
     ]
    },
    {
     "name": "stderr",
     "output_type": "stream",
     "text": [
      "loss=0.010478287935256958 batch_id=468: 100%|██████████| 469/469 [00:17<00:00, 26.51it/s] \n",
      "  0%|          | 0/469 [00:00<?, ?it/s]"
     ]
    },
    {
     "name": "stdout",
     "output_type": "stream",
     "text": [
      "\n",
      "Epoch: 9, Test set: Average loss: 0.0218, Accuracy: 9931/10000 (99.31%)\n",
      "\n"
     ]
    },
    {
     "name": "stderr",
     "output_type": "stream",
     "text": [
      "loss=0.00644512427970767 batch_id=468: 100%|██████████| 469/469 [00:17<00:00, 26.44it/s]  \n",
      "  0%|          | 0/469 [00:00<?, ?it/s]"
     ]
    },
    {
     "name": "stdout",
     "output_type": "stream",
     "text": [
      "\n",
      "Epoch: 10, Test set: Average loss: 0.0198, Accuracy: 9939/10000 (99.39%)\n",
      "\n"
     ]
    },
    {
     "name": "stderr",
     "output_type": "stream",
     "text": [
      "loss=0.04461701214313507 batch_id=468: 100%|██████████| 469/469 [00:17<00:00, 26.43it/s]  \n",
      "  0%|          | 0/469 [00:00<?, ?it/s]"
     ]
    },
    {
     "name": "stdout",
     "output_type": "stream",
     "text": [
      "\n",
      "Epoch: 11, Test set: Average loss: 0.0226, Accuracy: 9927/10000 (99.27%)\n",
      "\n"
     ]
    },
    {
     "name": "stderr",
     "output_type": "stream",
     "text": [
      "loss=0.03185923770070076 batch_id=468: 100%|██████████| 469/469 [00:17<00:00, 26.30it/s]  \n",
      "  0%|          | 0/469 [00:00<?, ?it/s]"
     ]
    },
    {
     "name": "stdout",
     "output_type": "stream",
     "text": [
      "\n",
      "Epoch: 12, Test set: Average loss: 0.0201, Accuracy: 9927/10000 (99.27%)\n",
      "\n"
     ]
    },
    {
     "name": "stderr",
     "output_type": "stream",
     "text": [
      "loss=0.02526417374610901 batch_id=468: 100%|██████████| 469/469 [00:17<00:00, 26.49it/s]  \n",
      "  0%|          | 0/469 [00:00<?, ?it/s]"
     ]
    },
    {
     "name": "stdout",
     "output_type": "stream",
     "text": [
      "\n",
      "Epoch: 13, Test set: Average loss: 0.0223, Accuracy: 9923/10000 (99.23%)\n",
      "\n"
     ]
    },
    {
     "name": "stderr",
     "output_type": "stream",
     "text": [
      "loss=0.009730013087391853 batch_id=468: 100%|██████████| 469/469 [00:17<00:00, 26.45it/s] \n",
      "  0%|          | 0/469 [00:00<?, ?it/s]"
     ]
    },
    {
     "name": "stdout",
     "output_type": "stream",
     "text": [
      "\n",
      "Epoch: 14, Test set: Average loss: 0.0197, Accuracy: 9939/10000 (99.39%)\n",
      "\n"
     ]
    },
    {
     "name": "stderr",
     "output_type": "stream",
     "text": [
      "loss=0.0032182501163333654 batch_id=468: 100%|██████████| 469/469 [00:17<00:00, 26.52it/s]\n",
      "  0%|          | 0/469 [00:00<?, ?it/s]"
     ]
    },
    {
     "name": "stdout",
     "output_type": "stream",
     "text": [
      "\n",
      "Epoch: 15, Test set: Average loss: 0.0206, Accuracy: 9935/10000 (99.35%)\n",
      "\n"
     ]
    },
    {
     "name": "stderr",
     "output_type": "stream",
     "text": [
      "loss=0.006079444661736488 batch_id=468: 100%|██████████| 469/469 [00:17<00:00, 26.48it/s] \n",
      "  0%|          | 0/469 [00:00<?, ?it/s]"
     ]
    },
    {
     "name": "stdout",
     "output_type": "stream",
     "text": [
      "\n",
      "Epoch: 16, Test set: Average loss: 0.0171, Accuracy: 9944/10000 (99.44%)\n",
      "\n"
     ]
    },
    {
     "name": "stderr",
     "output_type": "stream",
     "text": [
      "loss=0.00908307172358036 batch_id=468: 100%|██████████| 469/469 [00:17<00:00, 27.47it/s]  \n",
      "  0%|          | 0/469 [00:00<?, ?it/s]"
     ]
    },
    {
     "name": "stdout",
     "output_type": "stream",
     "text": [
      "\n",
      "Epoch: 17, Test set: Average loss: 0.0196, Accuracy: 9925/10000 (99.25%)\n",
      "\n"
     ]
    },
    {
     "name": "stderr",
     "output_type": "stream",
     "text": [
      "loss=0.006921254564076662 batch_id=468: 100%|██████████| 469/469 [00:16<00:00, 27.67it/s] \n",
      "  0%|          | 0/469 [00:00<?, ?it/s]"
     ]
    },
    {
     "name": "stdout",
     "output_type": "stream",
     "text": [
      "\n",
      "Epoch: 18, Test set: Average loss: 0.0178, Accuracy: 9942/10000 (99.42%)\n",
      "\n"
     ]
    },
    {
     "name": "stderr",
     "output_type": "stream",
     "text": [
      "loss=0.042920615524053574 batch_id=468: 100%|██████████| 469/469 [00:17<00:00, 26.75it/s] \n",
      "  0%|          | 0/469 [00:00<?, ?it/s]"
     ]
    },
    {
     "name": "stdout",
     "output_type": "stream",
     "text": [
      "\n",
      "Epoch: 19, Test set: Average loss: 0.0188, Accuracy: 9940/10000 (99.40%)\n",
      "\n"
     ]
    },
    {
     "name": "stderr",
     "output_type": "stream",
     "text": [
      "loss=0.0025993806775659323 batch_id=468: 100%|██████████| 469/469 [00:17<00:00, 26.49it/s]\n"
     ]
    },
    {
     "name": "stdout",
     "output_type": "stream",
     "text": [
      "\n",
      "Epoch: 20, Test set: Average loss: 0.0178, Accuracy: 9944/10000 (99.44%)\n",
      "\n"
     ]
    }
   ],
   "source": [
    "model = Net().to(device)\n",
    "optimizer = optim.SGD(model.parameters(), lr=0.01, momentum=0.9)\n",
    "\n",
    "for epoch in range(1, 21):\n",
    "    train(model, device, train_loader, optimizer, epoch)\n",
    "    test(model, device, test_loader)"
   ]
  },
  {
   "cell_type": "code",
   "execution_count": null,
   "id": "e95d1065",
   "metadata": {},
   "outputs": [],
   "source": []
  }
 ],
 "metadata": {
  "kernelspec": {
   "display_name": "Python 3",
   "language": "python",
   "name": "python3"
  },
  "language_info": {
   "codemirror_mode": {
    "name": "ipython",
    "version": 3
   },
   "file_extension": ".py",
   "mimetype": "text/x-python",
   "name": "python",
   "nbconvert_exporter": "python",
   "pygments_lexer": "ipython3",
   "version": "3.8.8"
  }
 },
 "nbformat": 4,
 "nbformat_minor": 5
}
